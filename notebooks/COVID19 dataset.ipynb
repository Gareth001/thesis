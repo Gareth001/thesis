{
 "cells": [
  {
   "cell_type": "code",
   "execution_count": 1,
   "metadata": {},
   "outputs": [],
   "source": [
    "import os\n",
    "import pandas as pd\n",
    "from scipy import stats\n",
    "import errno"
   ]
  },
  {
   "cell_type": "code",
   "execution_count": 2,
   "metadata": {},
   "outputs": [],
   "source": [
    "data_dir = '/Users/gareth/Documents/COVID19/data_deidentified/v0.3.0_2020-07-28/'"
   ]
  },
  {
   "cell_type": "code",
   "execution_count": 3,
   "metadata": {},
   "outputs": [
    {
     "name": "stderr",
     "output_type": "stream",
     "text": [
      "/usr/local/lib/python3.8/site-packages/IPython/core/interactiveshell.py:3145: DtypeWarning: Columns (110,112,118,127,142,146,148,149,150) have mixed types.Specify dtype option on import or set low_memory=False.\n",
      "  has_raised = await self.run_ast_nodes(code_ast.body, cell_name,\n"
     ]
    }
   ],
   "source": [
    "daily_df = pd.read_csv(os.path.join(data_dir, 'daily.csv'))\n",
    "daily = daily_df[:]"
   ]
  },
  {
   "cell_type": "code",
   "execution_count": 4,
   "metadata": {},
   "outputs": [
    {
     "name": "stderr",
     "output_type": "stream",
     "text": [
      "/usr/local/lib/python3.8/site-packages/IPython/core/interactiveshell.py:3145: DtypeWarning: Columns (162,221,242) have mixed types.Specify dtype option on import or set low_memory=False.\n",
      "  has_raised = await self.run_ast_nodes(code_ast.body, cell_name,\n"
     ]
    }
   ],
   "source": [
    "patients_df = pd.read_csv(os.path.join(data_dir, 'patients.csv'))\n",
    "patients = patients_df[:]"
   ]
  },
  {
   "cell_type": "markdown",
   "metadata": {},
   "source": [
    "### Admission data"
   ]
  },
  {
   "cell_type": "code",
   "execution_count": 5,
   "metadata": {},
   "outputs": [],
   "source": [
    "patients_cols = [\n",
    "    'weight', 'comorbidity_obesity', 'comorbidity_asthma',\n",
    "    'comorbidity_chronic_cardiac_disease', 'comorbidity_chronic_kidney_disease',\n",
    "    'age_five_year_intervals', 'final_outcome_death', 'sex', 'pin', 'date_discharge',\n",
    "    'date_outcome'\n",
    "]"
   ]
  },
  {
   "cell_type": "code",
   "execution_count": 6,
   "metadata": {},
   "outputs": [],
   "source": [
    "# filter out unknown outcome patients\n",
    "patients = patients[patients['final_outcome_unknown'] != 1]"
   ]
  },
  {
   "cell_type": "code",
   "execution_count": 7,
   "metadata": {},
   "outputs": [],
   "source": [
    "patients = patients[patients_cols].dropna()"
   ]
  },
  {
   "cell_type": "code",
   "execution_count": 8,
   "metadata": {},
   "outputs": [
    {
     "data": {
      "text/plain": [
       "(402, 11)"
      ]
     },
     "execution_count": 8,
     "metadata": {},
     "output_type": "execute_result"
    }
   ],
   "source": [
    "patients.shape"
   ]
  },
  {
   "cell_type": "markdown",
   "metadata": {},
   "source": [
    "### Daily data"
   ]
  },
  {
   "cell_type": "code",
   "execution_count": 9,
   "metadata": {},
   "outputs": [],
   "source": [
    "daily_cols = [\n",
    "    'pin', 'date_daily', 'day', \n",
    "    'serum_creatinine', 'haemoglobin', 'platelet_count', 'glucose', \n",
    "    'SaO2', 'systolic_pressure', 'diastolic_pressure', 'blood_urea_nitrogen',\n",
    "     'pH', #'PaCO2', 'PaO2', 'PaO2/FiO2', 'eotd_respiratory_rate', \n",
    "]"
   ]
  },
  {
   "cell_type": "code",
   "execution_count": 10,
   "metadata": {},
   "outputs": [],
   "source": [
    "daily = daily[daily.pin.isin(patients.pin)][daily_cols].dropna()"
   ]
  },
  {
   "cell_type": "code",
   "execution_count": 11,
   "metadata": {
    "scrolled": true
   },
   "outputs": [],
   "source": [
    "# this removes too much data\n",
    "drop_pins = []\n",
    "\n",
    "for pin in daily['pin'].unique():\n",
    "    if (max(daily[daily.pin == pin]['date_daily']) == patients[patients.pin == pin]['date_outcome'].values[0] or\n",
    "            max(daily[daily.pin == pin]['date_daily']) == patients[patients.pin == pin]['date_discharge'].values[0]):\n",
    "        continue\n",
    "#     drop_pins.append(pin)"
   ]
  },
  {
   "cell_type": "code",
   "execution_count": 12,
   "metadata": {},
   "outputs": [],
   "source": [
    "drop_daily = daily[~daily.pin.isin(drop_pins)]"
   ]
  },
  {
   "cell_type": "code",
   "execution_count": 13,
   "metadata": {},
   "outputs": [],
   "source": [
    "drop_daily = drop_daily[drop_daily.day > 0]"
   ]
  },
  {
   "cell_type": "code",
   "execution_count": 14,
   "metadata": {},
   "outputs": [],
   "source": [
    "drop_daily = drop_daily.merge(patients, on='pin')"
   ]
  },
  {
   "cell_type": "markdown",
   "metadata": {},
   "source": [
    "Map to the following column names \n",
    "\n",
    "\"Creatinine\", \"HCO3\", \"HR\", \"Haemoglobin\", \"Platelet_count\",\n",
    "\"Potassium\", \"RR\", \"Sodium\", \"AGE\", \"GENDER\",\n",
    "'Chronic Kidney Disease', 'Obesity', 'Heart disease', 'Asthma', \n",
    "'Weight_kg', 'SaO2', 'HADM_ID', 'DEATH'"
   ]
  },
  {
   "cell_type": "code",
   "execution_count": 15,
   "metadata": {},
   "outputs": [
    {
     "data": {
      "text/plain": [
       "Index(['pin', 'date_daily', 'day', 'serum_creatinine', 'haemoglobin',\n",
       "       'platelet_count', 'glucose', 'SaO2', 'systolic_pressure',\n",
       "       'diastolic_pressure', 'blood_urea_nitrogen', 'pH', 'weight',\n",
       "       'comorbidity_obesity', 'comorbidity_asthma',\n",
       "       'comorbidity_chronic_cardiac_disease',\n",
       "       'comorbidity_chronic_kidney_disease', 'age_five_year_intervals',\n",
       "       'final_outcome_death', 'sex', 'date_discharge', 'date_outcome'],\n",
       "      dtype='object')"
      ]
     },
     "execution_count": 15,
     "metadata": {},
     "output_type": "execute_result"
    }
   ],
   "source": [
    "drop_daily.columns"
   ]
  },
  {
   "cell_type": "code",
   "execution_count": 16,
   "metadata": {},
   "outputs": [],
   "source": [
    "col_map = {\n",
    "    'pin':'HADM_ID',\n",
    "    'serum_creatinine': 'Creatinine',\n",
    "    'haemoglobin': 'Haemoglobin',\n",
    "    'platelet_count': 'Platelet_count', \n",
    "    'final_outcome_death': 'DEATH',\n",
    "    'sex': 'GENDER',\n",
    "    'weight': 'Weight_kg',\n",
    "    'comorbidity_chronic_cardiac_disease': 'Heart disease',\n",
    "    'comorbidity_chronic_kidney_disease': 'Chronic Kidney Disease',\n",
    "    'age_five_year_intervals': 'AGE',\n",
    "    'comorbidity_asthma': 'Asthma',\n",
    "    'comorbidity_obesity': 'Obesity',\n",
    "    'day': 'Day'\n",
    "}"
   ]
  },
  {
   "cell_type": "code",
   "execution_count": 17,
   "metadata": {},
   "outputs": [],
   "source": [
    "drop_daily.columns = list(map(lambda x: col_map[x] if x in col_map else x, list(drop_daily.columns)))"
   ]
  },
  {
   "cell_type": "code",
   "execution_count": 18,
   "metadata": {},
   "outputs": [
    {
     "data": {
      "text/plain": [
       "(2438, 22)"
      ]
     },
     "execution_count": 18,
     "metadata": {},
     "output_type": "execute_result"
    }
   ],
   "source": [
    "drop_daily.shape"
   ]
  },
  {
   "cell_type": "code",
   "execution_count": 19,
   "metadata": {},
   "outputs": [
    {
     "data": {
      "text/plain": [
       "(303,)"
      ]
     },
     "execution_count": 19,
     "metadata": {},
     "output_type": "execute_result"
    }
   ],
   "source": [
    "drop_daily.HADM_ID.unique().shape"
   ]
  },
  {
   "cell_type": "code",
   "execution_count": 20,
   "metadata": {},
   "outputs": [],
   "source": [
    "drop_daily.to_csv('covid.csv')"
   ]
  }
 ],
 "metadata": {
  "kernelspec": {
   "display_name": "Python 3",
   "language": "python",
   "name": "python3"
  },
  "language_info": {
   "codemirror_mode": {
    "name": "ipython",
    "version": 3
   },
   "file_extension": ".py",
   "mimetype": "text/x-python",
   "name": "python",
   "nbconvert_exporter": "python",
   "pygments_lexer": "ipython3",
   "version": "3.8.5"
  }
 },
 "nbformat": 4,
 "nbformat_minor": 4
}
