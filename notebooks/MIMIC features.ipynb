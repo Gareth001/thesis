{
 "cells": [
  {
   "cell_type": "markdown",
   "metadata": {},
   "source": [
    "# MIMIC Features\n",
    "\n",
    "This notebook is used to find the most common features and their names in the MIMIC3 database. "
   ]
  },
  {
   "cell_type": "code",
   "execution_count": 1,
   "metadata": {},
   "outputs": [],
   "source": [
    "import pandas as pd\n",
    "import numpy as np\n",
    "import seaborn as sns\n",
    "import matplotlib.pyplot as plt"
   ]
  },
  {
   "cell_type": "code",
   "execution_count": 2,
   "metadata": {},
   "outputs": [
    {
     "name": "stdout",
     "output_type": "stream",
     "text": [
      "Wall time: 4min 19s\n"
     ]
    }
   ],
   "source": [
    "%%time\n",
    "# load all rows in chartevents\n",
    "df = pd.read_csv(\"../mimic/data_raw/CHARTEVENTS.csv.gz\",\n",
    "            usecols=[\"ITEMID\"],\n",
    "            dtype={\"ITEMID\": int})\n",
    "\n",
    "# get count of each itemid\n",
    "counts = df[\"ITEMID\"].value_counts().sort_values(ascending=False)\n",
    "del df"
   ]
  },
  {
   "cell_type": "code",
   "execution_count": 3,
   "metadata": {},
   "outputs": [],
   "source": [
    "# load all itemids and names\n",
    "variables = pd.read_csv(\"../mimic/data_raw/D_ITEMS.csv.gz\",\n",
    "                        dtype={\"ITEMID\": int})\n",
    "\n",
    "# map between itemid and name\n",
    "ITEMID_map = variables[[\"LABEL\", 'ITEMID']].set_index('ITEMID').to_dict()['LABEL']"
   ]
  },
  {
   "cell_type": "code",
   "execution_count": 4,
   "metadata": {},
   "outputs": [],
   "source": [
    "# Get name of each index\n",
    "count_df = pd.DataFrame(counts)\n",
    "count_df.columns = ['count']\n",
    "count_df = count_df.reset_index()\n",
    "count_df['Name'] = count_df.apply(lambda x: ITEMID_map[x['index']], axis=1)"
   ]
  },
  {
   "cell_type": "markdown",
   "metadata": {},
   "source": [
    "Note - low index numbers are from carevue, higher are from metavision"
   ]
  },
  {
   "cell_type": "code",
   "execution_count": 9,
   "metadata": {
    "scrolled": false
   },
   "outputs": [
    {
     "name": "stdout",
     "output_type": "stream",
     "text": [
      "      index    count                                      Name\n",
      "0       211  5180809                                Heart Rate\n",
      "1       742  3464326                                calprevflg\n",
      "2       646  3418917                                      SpO2\n",
      "3       618  3386719                          Respiratory Rate\n",
      "4       212  3303151                              Heart Rhythm\n",
      "5       161  3236350                               Ectopy Type\n",
      "6       128  3216866                               Code Status\n",
      "7       550  3205052                               Precautions\n",
      "8      1125  2955851                              Service Type\n",
      "9    220045  2762225                                Heart Rate\n",
      "10   220210  2737105                          Respiratory Rate\n",
      "11   220277  2671816               O2 saturation pulseoxymetry\n",
      "12      159  2544519                          Ectopy Frequency\n",
      "13     1484  2261065                            Risk for Falls\n",
      "14       51  2096678                    Arterial BP [Systolic]\n",
      "15     8368  2085994                   Arterial BP [Diastolic]\n",
      "16       52  2072743                          Arterial BP Mean\n",
      "17   220048  2023672                              Heart Rhythm\n",
      "18   227969  1862707                       Safety Measures_U_1\n",
      "19   224650  1849287                             Ectopy Type 1\n",
      "20     5815  1807316                            HR Alarm [Low]\n",
      "21     8549  1804988                           HR Alarm [High]\n",
      "22     5820  1802684                          SpO2 Alarm [Low]\n",
      "23     8554  1796313                         SpO2 Alarm [High]\n",
      "24     5819  1772387                          Resp Alarm [Low]\n",
      "25     8553  1769925                         Resp Alarm [High]\n",
      "26      834  1716561                                      SaO2\n",
      "27     3450  1687886                            HR Alarm [Low]\n",
      "28     8518  1687615                           HR Alarm [High]\n",
      "29     3603  1676872                                 Resp Rate\n",
      "30      581  1641889                          Previous WeightF\n",
      "31     3609  1621393                          SaO2 Alarm [Low]\n",
      "32     8532  1619782                         SaO2 Alarm [High]\n",
      "33      455  1579681                            NBP [Systolic]\n",
      "34     8441  1573583                           NBP [Diastolic]\n",
      "35      456  1553537                                  NBP Mean\n",
      "36       31  1442406                                  Activity\n",
      "37     5817  1378959                           NBP Alarm [Low]\n",
      "38     8551  1375295                          NBP Alarm [High]\n",
      "39   220181  1292916          Non Invasive Blood Pressure mean\n",
      "40   220179  1290488      Non Invasive Blood Pressure systolic\n",
      "41   220180  1289885     Non Invasive Blood Pressure diastolic\n",
      "42      113  1198681                                       CVP\n",
      "43     1703  1174868                         Health Care Proxy\n",
      "44   220052  1156173              Arterial Blood Pressure mean\n",
      "45      467  1155571                        O2 Delivery Device\n",
      "46   220050  1149788          Arterial Blood Pressure systolic\n",
      "47   220051  1149537         Arterial Blood Pressure diastolic\n",
      "48       80  1136214                              Bowel Sounds\n",
      "49     1337  1083809                           Riker-SAS Scale\n",
      "50      674  1042512                                Temp. Site\n",
      "51      432  1032728                        Level of Conscious\n",
      "52     5813   982518                           ABP Alarm [Low]\n",
      "53     8547   976252                          ABP Alarm [High]\n",
      "54      617   962191                       Respiratory Pattern\n",
      "55      210   955452                                       HOB\n",
      "56      637   954354                                Side Rails\n",
      "57      184   954139                               Eye Opening\n",
      "58      723   952177                           Verbal Response\n",
      "59      454   950038                            Motor Response\n",
      "60      198   945638                                 GCS Total\n",
      "61      707   937064                              Urine Source\n",
      "62      704   933238                                      Turn\n",
      "63      479   917780                               Orientation\n",
      "64       54   892239                         Assistance Device\n",
      "65       32   878442                        Activity Tolerance\n",
      "66      547   852968                                  Position\n",
      "67      154   818852                                 Diet Type\n",
      "68     3656   803881                    Temp/Iso/Warmer [Type]\n",
      "69     1046   803816                              Pain Present\n",
      "70   224084   803619                                  Activity\n",
      "71      599   787137                           RUL Lung Sounds\n",
      "72      428   786544                           LUL Lung Sounds\n",
      "73      593   784361                           RLL Lung Sounds\n",
      "74      425   783762                           LLL Lung Sounds\n",
      "75   224080   783321                               Head of Bed\n",
      "76   224082   775873                                      Turn\n",
      "77      663   774213                           Support Systems\n",
      "78      478   774157                               Oral Cavity\n",
      "79      678   773891                             Temperature F\n",
      "80      677   772277                      Temperature C (calc)\n",
      "81   223792   765274                           Pain Management\n",
      "82   224086   743354                        Activity Tolerance\n",
      "83      680   740176                           Therapeutic Bed\n",
      "84       27   737224                      Abdominal Assessment\n",
      "85      706   727719                             Urine [Color]\n",
      "86     8537   725866  Temp/Iso/Warmer [Temperature, degrees C]\n",
      "87     8480   719203                        Urine [Appearance]\n",
      "88   224093   717326                                  Position\n",
      "89   227958   716961                 Less Restrictive Measures\n",
      "90     3645   690295                       Sx Equip Functional\n",
      "91     3327   679113                        Bag & Mask Present\n",
      "92     3420   673719                                      FIO2\n",
      "93      621   666496                        Restraint Location\n",
      "94     5814   655454                           CVP Alarm [Low]\n",
      "95     8548   649745                          CVP Alarm [High]\n",
      "96       49   636690                    Anti-Embolism [Device]\n",
      "97   224642   618565                          Temperature Site\n",
      "98     8367   601818                    Anti-Embolism [Status]\n",
      "99     1087   592344                        Pain Assess Method\n",
      "100     644   591813                            Skin Integrity\n",
      "101  223795   580026                    Pain Assessment Method\n",
      "102     156   577780                   Dorsal PedPulse [Right]\n",
      "103     190   572923                                  FiO2 Set\n",
      "104  223781   571334                              Pain Present\n",
      "105    8381   571289                    Dorsal PedPulse [Left]\n",
      "106  220739   567463                         GCS - Eye Opening\n",
      "107  224087   566898                           Therapeutic Bed\n",
      "108  223900   565894                     GCS - Verbal Response\n",
      "109  223901   565468                      GCS - Motor Response\n",
      "110  223835   558061                      Inspired O2 Fraction\n",
      "111     525   557635                             Pain Location\n",
      "112    1622   546133                                    Alarms\n",
      "113  224085   542763                         Assistance Device\n",
      "114    3655   532983                             Temp Skin [C]\n",
      "115  226732   523639                     O2 Delivery Device(s)\n",
      "116    3476   522681                           Infant Position\n",
      "117  223761   522143                    Temperature Fahrenheit\n",
      "118  223986   517410                           RUL Lung Sounds\n",
      "119  224641   517298                                 Alarms On\n",
      "120  223988   516567                           LUL Lung Sounds\n",
      "121  220074   514118                   Central Venous Pressure\n",
      "122    1623   512059                        Parameters Checked\n",
      "123  223987   511739                           RLL Lung Sounds\n",
      "124  224073   510676                           Education Topic\n",
      "125  223989   510161                           LLL Lung Sounds\n",
      "126      40   509586                               Airway Type\n",
      "127  226104   508206                    Level of Consciousness\n",
      "128  224168   507112                        Parameters Checked\n",
      "129  223898   505798                               Orientation\n",
      "130     492   495659                            PAP [Systolic]\n",
      "131    1427   495004                  GI Prophylaxis [Drug #1]\n",
      "132    8448   489726                           PAP [Diastolic]\n",
      "133     722   488468                           Ventilator Type\n",
      "134      39   488169                               Airway Size\n",
      "135  223902   484289                                    Speech\n",
      "136     229   483680                         INV Line#1 [Type]\n",
      "137     642   483009                                 Skin Care\n",
      "138  220339   480563                                  PEEP set\n",
      "139  224089   478957                       Anti Embolic Device\n",
      "140     197   477574                          Follows Commands\n",
      "141     605   475987                      Reason For Restraint\n",
      "142  224003   472980                      Abdominal Assessment\n",
      "143    8392   472344                         INV Line#1 [Site]\n",
      "144     622   471190                            Restraint Type\n",
      "145  224697   467046                      Mean Airway Pressure\n",
      "146     200   465642                        GI Intub #1 [Type]\n",
      "147  223911   464269                      Spontaneous Movement\n",
      "148    3652   461989                         Temp Axillary [F]\n",
      "149  224001   458404                                 Diet Type\n",
      "150  224685   458370                   Tidal Volume (observed)\n",
      "151    3291   457953                      Abdominal Appearance\n",
      "152  220293   456561                Minute Volume Alarm - High\n",
      "153     477   456538                                 Oral Care\n",
      "154     549   456297                   PostTib. Pulses [Right]\n",
      "155  220292   456184                 Minute Volume Alarm - Low\n",
      "156  223783   455816                             Pain Location\n",
      "157  223876   455799                            Apnea Interval\n",
      "158  223873   455197                                  Paw High\n",
      "159     585   454264                        Pupil Size [Right]\n",
      "160  224695   454192                       Peak Insp. Pressure\n",
      "161    8388   453715                        GI Intub #1 [Site]\n",
      "162  224689   452937            Respiratory Rate (spontaneous)\n",
      "163    3293   451581                            Abdominal Exam\n",
      "164  224687   450204                             Minute Volume\n",
      "165    8456   449319                    PostTib. Pulses [Left]\n",
      "166     171   448498                        Education Topic #1\n",
      "167     584   448439                    Pupil Response [Right]\n",
      "168  223999   448421                               Oral Cavity\n",
      "169  223874   448412                                  Vti High\n",
      "170     594   447568                                ROM [Type]\n",
      "171    8467   446237                         Pupil Size [Left]\n",
      "172    3373   445330                           Color (Overall)\n",
      "173    3339   443894                         Breath Sounds [R]\n",
      "174    3338   443845                         Breath Sounds [L]\n",
      "175    3627   443520                                     State\n",
      "176  223916   443071                Response to Stimuli (Type)\n",
      "177    3353   442894                            Cardiac Murmur\n",
      "178     657   442143                             Sputum Source\n",
      "179    8466   441424                     Pupil Response [Left]\n",
      "180    3669   441119                                    Turgor\n",
      "181    3348   440454                          Capillary Refill\n",
      "182    3408   440422                               Environment\n",
      "183    3607   440057                               Retractions\n",
      "184     127   439198                       Circulation/SkinInt\n",
      "185    3386   439168                               Day of Life\n",
      "186  223985   439160                       Respiratory Pattern\n",
      "187    3519   438820                               Muscle Tone\n",
      "188    8477   438250                           Sputum [Amount]\n",
      "189    3632   438224                            Stool [Amount]\n",
      "190    3664   436790                      Total Fluids cc/kg/d\n",
      "191     807   435807                       Fingerstick Glucose\n",
      "192    3335   435466                                Boundaries\n",
      "193    3723   435385                      Birth Weight    (kg)\n",
      "194    3568   434931                         Peripheral Pulses\n",
      "195    3580   433003                      Present Weight  (kg)\n",
      "196    3581   432997                      Present Weight  (lb)\n",
      "197    3582   432996                      Present Weight  (oz)\n",
      "198  223990   430827                        Respiratory Effort\n",
      "199  224756   430305                                  Response\n",
      "200    3572   428915                          Physioregulation\n",
      "201    3292   428745                           Abdominal Color\n",
      "202     623   427754                      Restraints Evaluated\n",
      "203     548   427261                           Position Change\n",
      "204     506   427050                                  PEEP Set\n",
      "205  227944   426945                                Side Rails\n",
      "206    3304   426058             Anterior Fontanelle [Texture]\n",
      "207     655   425588                      Spontaneous Movement\n",
      "208    8499   425500               Anterior Fontanelle [Shape]\n",
      "209      77   422882                                  Behavior\n",
      "210     720   420719                           Ventilator Mode\n",
      "211    3295   420613                           Abdominal Loops\n",
      "212    3559   420055                                      Pain\n",
      "213    3634   419870                                    Stress\n",
      "214     615   417049                         Resp Rate (Total)\n",
      "215    3583   416621                      Previous Weight (kg)\n",
      "216     656   416491                            Sputum [Color]\n",
      "217    3692   416413                      Weight Change  (gms)\n",
      "218    3694   416176                         Work of Breathing\n",
      "219  225054   415751                Anti Embolic Device Status\n",
      "220    8476   412227                        Sputum Consistency\n",
      "221  223905   411190                              Cough Reflex\n",
      "222     232   411185                      INV Line#1SiteAppear\n",
      "223    3577   410245            Posterior Fontanelle [Texture]\n",
      "224    8529   408992              Posterior Fontanelle [Shape]\n",
      "225  223904   408818                                Gag Reflex\n",
      "226  224015   407581                              Urine Source\n",
      "227     610   407061                          Removed x 5 Mins\n",
      "228  223917   406416                      RU Strength/Movement\n",
      "229  223919   406123                      LU Strength/Movement\n",
      "230  224004   406071                              Bowel Sounds\n",
      "231    3686   405991                                      Void\n",
      "232  224088   405832                  Pressure Reducing Device\n",
      "233     450   405820                      Minute Volume(Obser)\n",
      "234  223918   405790                      RL Strength/Movement\n",
      "235  223920   404984                      LL Strength/Movement\n",
      "236    1047   399956                           Range of Motion\n",
      "237  224690   399752                  Respiratory Rate (Total)\n",
      "238     411   396686                         Incision/Wound #1\n",
      "239     434   390855                       Low Exhaled Min Vol\n",
      "240     218   388926                       High Insp. Pressure\n",
      "241    3509   387650                                      Mode\n",
      "242     470   384488                             O2 Flow (lpm)\n",
      "243     444   382589                      Mean Airway Pressure\n",
      "244     219   381589                           High Resp. Rate\n",
      "245     811   380840                          Glucose (70-105)\n",
      "246      38   378898                                    Airway\n",
      "247     676   378549                             Temperature C\n",
      "248  223794   378243                     Pain Level Acceptable\n",
      "249  224016   376384                               Urine Color\n",
      "250     679   376047                      Temperature F (calc)\n",
      "251     157   375189                                ETT [Mark]\n",
      "252     203   373504                        GI#1 Tube [Status]\n",
      "253     235   372970                         INV Line#2 [Type]\n",
      "254     631   370897                          Sensitivity-Vent\n",
      "255    8382   365329                            ETT [Location]\n",
      "256    8393   364545                         INV Line#2 [Site]\n",
      "257     596   364087                      RU Strength/Movement\n",
      "258  226168   363978                                 Oral Care\n",
      "259     426   363750                      LU Strength/Movement\n",
      "260     590   363348                      RL Strength/Movement\n",
      "261  223934   363283                         Dorsal PedPulse R\n",
      "262     423   362993                      LL Strength/Movement\n",
      "263  223907   362834                          Pupil Size Right\n",
      "264  224733   361834                           Pupil Size Left\n",
      "265  224026   360953                            Skin Integrity\n",
      "266      72   360506                                 Back Care\n",
      "267    3465   359092                          IV #1 [Location]\n",
      "268  227121   359019                      Pupil Response Right\n",
      "269  227288   357287                       Pupil Response Left\n",
      "270  224027   357147                          Skin Temperature\n",
      "271     294   355945                              IV #1 [Site]\n",
      "272  224031   355602                            Edema Location\n",
      "273  223943   355174                         Dorsal PedPulse L\n",
      "274    8521   354847                          IV #1 [Location]\n",
      "275    1425   354742                             Daily Wake Up\n",
      "276     320   354261                                IV Site #1\n",
      "277  224876   353425                          Urine Appearance\n",
      "278     505   352328                                      PEEP\n",
      "279  224028   351925                                Skin Color\n",
      "280  224860   347997                            Skin Condition\n",
      "281     417   344788                         Inspired Gas Temp\n",
      "282      85   344150                           Braden Moisture\n",
      "283      82   344145                           Braden Activity\n",
      "284      84   343942                           Braden Mobility\n",
      "285      86   343827                          Braden Nutrition\n",
      "286      88   343468                      Braden SensoryPercep\n",
      "287      83   343355                        Braden Frict/Shear\n",
      "288      87   342103                              Braden Score\n",
      "289    8400   340411                              IV #1 [Size]\n",
      "290  223791   337893                                Pain Level\n",
      "291  223991   337744                              Cough Effort\n",
      "292    3437   336093                            Flowrate (l/m)\n",
      "293    3626   331376                                     Spits\n",
      "294     620   328851                Responds to Stimuli [Type]\n",
      "295     829   326112                       Potassium (3.5-5.3)\n",
      "296    3446   323761                           Gestational Age\n",
      "297  224651   320762                        Ectopy Frequency 1\n",
      "298  224000   315915                                   Nares R\n",
      "299    8474   315700               Responds to Stimuli [Value]\n"
     ]
    }
   ],
   "source": [
    "print(count_df[:300].to_string())"
   ]
  },
  {
   "cell_type": "code",
   "execution_count": 15,
   "metadata": {},
   "outputs": [
    {
     "data": {
      "text/plain": [
       "<matplotlib.axes._subplots.AxesSubplot at 0x21c019649c8>"
      ]
     },
     "execution_count": 15,
     "metadata": {},
     "output_type": "execute_result"
    },
    {
     "data": {
      "image/png": "[encoded data removed]",
      "text/plain": [
       "<Figure size 432x288 with 1 Axes>"
      ]
     },
     "metadata": {
      "needs_background": "light"
     },
     "output_type": "display_data"
    }
   ],
   "source": [
    "sns.lineplot(data=count_df[:300]['count'])\n",
    "plt.title('Number of Outcomes at Each Day')\n",
    "plt.ylabel('Count')\n",
    "plt.xlabel('Day')\n",
    "plt.legend()\n",
    "plt.show(fig)"
   ]
  },
  {
   "cell_type": "code",
   "execution_count": 2,
   "metadata": {},
   "outputs": [
    {
     "name": "stdout",
     "output_type": "stream",
     "text": [
      "Wall time: 4min 49s\n"
     ]
    }
   ],
   "source": [
    "%%time\n",
    "# load all rows in chartevents\n",
    "df = pd.read_csv(\"../mimic/data_raw/CHARTEVENTS.csv.gz\",\n",
    "            usecols=[\"ITEMID\", \"CHARTTIME\", \"HADM_ID\"],\n",
    "            dtype={\"ITEMID\": int, \"HADM_ID\":int})"
   ]
  },
  {
   "cell_type": "code",
   "execution_count": 3,
   "metadata": {
    "scrolled": true
   },
   "outputs": [
    {
     "data": {
      "text/plain": [
       "(330712483, 3)"
      ]
     },
     "execution_count": 3,
     "metadata": {},
     "output_type": "execute_result"
    }
   ],
   "source": [
    "df.shape"
   ]
  },
  {
   "cell_type": "code",
   "execution_count": 5,
   "metadata": {},
   "outputs": [
    {
     "name": "stdout",
     "output_type": "stream",
     "text": [
      "Wall time: 1min 18s\n"
     ]
    }
   ],
   "source": [
    "%%time\n",
    "df[\"CHARTTIME\"] = pd.to_datetime(df[\"CHARTTIME\"], format=\"%Y-%m-%d %H:%M:%S\")"
   ]
  },
  {
   "cell_type": "code",
   "execution_count": 6,
   "metadata": {},
   "outputs": [
    {
     "name": "stdout",
     "output_type": "stream",
     "text": [
      "Wall time: 3min 31s\n"
     ]
    }
   ],
   "source": [
    "%%time\n",
    "df[\"CHARTDATE\"] = df[\"CHARTTIME\"].dt.date\n",
    "del df[\"CHARTTIME\"]"
   ]
  },
  {
   "cell_type": "code",
   "execution_count": 7,
   "metadata": {},
   "outputs": [],
   "source": [
    "# add column with dummy value\n",
    "df['test'] = 1"
   ]
  },
  {
   "cell_type": "code",
   "execution_count": 59,
   "metadata": {},
   "outputs": [
    {
     "name": "stdout",
     "output_type": "stream",
     "text": [
      "Wall time: 7.79 s\n"
     ]
    }
   ],
   "source": [
    "%%time\n",
    "pivot = pd.pivot_table(df[:20000000], index=[\"HADM_ID\", \"CHARTDATE\"], columns=\"ITEMID\",\n",
    "            aggfunc=\"first\", values=\"test\", fill_value=np.nan)"
   ]
  },
  {
   "cell_type": "code",
   "execution_count": 60,
   "metadata": {},
   "outputs": [
    {
     "name": "stderr",
     "output_type": "stream",
     "text": [
      "No handles with labels found to put in legend.\n"
     ]
    },
    {
     "data": {
      "text/plain": [
       "<matplotlib.legend.Legend at 0x1f68e424a08>"
      ]
     },
     "execution_count": 60,
     "metadata": {},
     "output_type": "execute_result"
    },
    {
     "data": {
      "image/png": "[encoded data removed]",
      "text/plain": [
       "<Figure size 432x288 with 1 Axes>"
      ]
     },
     "metadata": {
      "needs_background": "light"
     },
     "output_type": "display_data"
    }
   ],
   "source": [
    "sns.lineplot(data=pivot.count().sort_values(ascending=False).reset_index()[0])\n",
    "# plt.title('Number of Outcomes at Each Day')\n",
    "plt.ylabel('Count')\n",
    "# plt.xlabel('Day')\n",
    "plt.legend()"
   ]
  }
 ],
 "metadata": {
  "kernelspec": {
   "display_name": "Python 3",
   "language": "python",
   "name": "python3"
  },
  "language_info": {
   "codemirror_mode": {
    "name": "ipython",
    "version": 3
   },
   "file_extension": ".py",
   "mimetype": "text/x-python",
   "name": "python",
   "nbconvert_exporter": "python",
   "pygments_lexer": "ipython3",
   "version": "3.7.4"
  }
 },
 "nbformat": 4,
 "nbformat_minor": 4
}
