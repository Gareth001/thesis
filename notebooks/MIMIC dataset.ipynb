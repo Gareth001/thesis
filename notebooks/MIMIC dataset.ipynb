{
 "cells": [
  {
   "cell_type": "markdown",
   "metadata": {},
   "source": [
    "## Creating dataset"
   ]
  },
  {
   "cell_type": "code",
   "execution_count": 1,
   "metadata": {},
   "outputs": [],
   "source": [
    "import os\n",
    "os.chdir('../mimic')\n",
    "from process_mimic import create_merged, get_first_data\n",
    "import pandas as pd\n",
    "from scipy import stats"
   ]
  },
  {
   "cell_type": "markdown",
   "metadata": {},
   "source": [
    "Run process_mimic functions to get daily and admission data."
   ]
  },
  {
   "cell_type": "code",
   "execution_count": 4,
   "metadata": {},
   "outputs": [],
   "source": [
    "try:\n",
    "    os.makedirs('data_processed')\n",
    "except OSError as e:\n",
    "    if e.errno != errno.EEXIST:\n",
    "        raise"
   ]
  },
  {
   "cell_type": "code",
   "execution_count": 5,
   "metadata": {
    "scrolled": false
   },
   "outputs": [
    {
     "name": "stderr",
     "output_type": "stream",
     "text": [
      "[    INFO |     process_mimic.py:337]   Starting preprocessing of MIMIC data\n",
      "[   DEBUG |     process_mimic.py: 70]   Reading chartevents file data_raw\\CHARTEVENTS.csv.gz\n",
      "[   DEBUG |     process_mimic.py: 74]   Read chartevents file data_raw\\CHARTEVENTS.csv.gz\n",
      "[   DEBUG |     process_mimic.py: 90]   Running process for chart event tobacco over 0 rows\n",
      "[   DEBUG |     process_mimic.py: 90]   Running process for chart event CRP over 743 rows\n",
      "[   DEBUG |     process_mimic.py: 90]   Running process for chart event Haemoglobin over 137117 rows\n",
      "[   DEBUG |     process_mimic.py: 90]   Running process for chart event AST over 203 rows\n",
      "[   DEBUG |     process_mimic.py: 90]   Running process for chart event Systolic_BP over 1149788 rows\n",
      "[   DEBUG |     process_mimic.py: 90]   Running process for chart event Diabetes over 0 rows\n",
      "[   DEBUG |     process_mimic.py: 90]   Running process for chart event PaCO2 over 140215 rows\n",
      "[   DEBUG |     process_mimic.py: 90]   Running process for chart event apache2 over 19 rows\n",
      "[   DEBUG |     process_mimic.py: 90]   Running process for chart event sofa over 3 rows\n",
      "[   DEBUG |     process_mimic.py: 90]   Running process for chart event Platelet_count over 137461 rows\n",
      "[   DEBUG |     process_mimic.py: 90]   Running process for chart event Platelet_count over 137461 rows\n",
      "[   DEBUG |     process_mimic.py: 90]   Running process for chart event ALT over 54955 rows\n",
      "[   DEBUG |     process_mimic.py: 90]   Running process for chart event ALT over 54955 rows\n",
      "[   DEBUG |     process_mimic.py: 90]   Running process for chart event Bilirubin over 12 rows\n",
      "[   DEBUG |     process_mimic.py: 90]   Running process for chart event Bilirubin over 12 rows\n",
      "[   DEBUG |     process_mimic.py: 90]   Running process for chart event Creatinine over 211831 rows\n",
      "[   DEBUG |     process_mimic.py: 90]   Running process for chart event Creatinine over 211831 rows\n",
      "[   DEBUG |     process_mimic.py: 90]   Running process for chart event Sodium over 228586 rows\n",
      "[   DEBUG |     process_mimic.py: 90]   Running process for chart event Sodium over 228586 rows\n",
      "[   DEBUG |     process_mimic.py: 90]   Running process for chart event Potassium over 260382 rows\n",
      "[   DEBUG |     process_mimic.py: 90]   Running process for chart event Potassium over 260382 rows\n",
      "[   DEBUG |     process_mimic.py: 90]   Running process for chart event HR over 4931185 rows\n",
      "[   DEBUG |     process_mimic.py: 90]   Running process for chart event HR over 4931185 rows\n",
      "[   DEBUG |     process_mimic.py: 90]   Running process for chart event RR over 4105351 rows\n",
      "[   DEBUG |     process_mimic.py: 90]   Running process for chart event RR over 4105351 rows\n",
      "[   DEBUG |     process_mimic.py: 90]   Running process for chart event Diastolic_BP over 1236044 rows\n",
      "[   DEBUG |     process_mimic.py: 90]   Running process for chart event Diastolic_BP over 1236044 rows\n",
      "[   DEBUG |     process_mimic.py: 90]   Running process for chart event Mean Arterial Pressure over 2007587 rows\n",
      "[   DEBUG |     process_mimic.py: 90]   Running process for chart event Mean Arterial Pressure over 2007587 rows\n",
      "[   DEBUG |     process_mimic.py: 90]   Running process for chart event Smoking over 0 rows\n",
      "[   DEBUG |     process_mimic.py: 90]   Running process for chart event Smoking over 0 rows\n",
      "[   DEBUG |     process_mimic.py: 90]   Running process for chart event FiO2 over 1097126 rows\n",
      "[   DEBUG |     process_mimic.py: 90]   Running process for chart event FiO2 over 1097126 rows\n",
      "[   DEBUG |     process_mimic.py: 90]   Running process for chart event FiO2 over 1097126 rows\n",
      "[   DEBUG |     process_mimic.py: 90]   Running process for chart event FiO2 over 1097126 rows\n",
      "[   DEBUG |     process_mimic.py: 90]   Running process for chart event SaO2 over 4813011 rows\n",
      "[   DEBUG |     process_mimic.py: 90]   Running process for chart event SaO2 over 4813011 rows\n",
      "[   DEBUG |     process_mimic.py: 90]   Running process for chart event SaO2 over 4813011 rows\n",
      "[   DEBUG |     process_mimic.py: 90]   Running process for chart event PaO2 over 251961 rows\n",
      "[   DEBUG |     process_mimic.py: 90]   Running process for chart event PaO2 over 251961 rows\n",
      "[   DEBUG |     process_mimic.py: 90]   Running process for chart event PaO2 over 251961 rows\n",
      "[   DEBUG |     process_mimic.py: 90]   Running process for chart event PaO2 over 251961 rows\n",
      "[   DEBUG |     process_mimic.py: 90]   Running process for chart event PCO2 over 6521 rows\n",
      "[   DEBUG |     process_mimic.py: 90]   Running process for chart event PCO2 over 6521 rows\n",
      "[   DEBUG |     process_mimic.py: 90]   Running process for chart event PCO2 over 6521 rows\n",
      "[   DEBUG |     process_mimic.py: 90]   Running process for chart event pH over 148159 rows\n",
      "[   DEBUG |     process_mimic.py: 90]   Running process for chart event pH over 148159 rows\n",
      "[   DEBUG |     process_mimic.py: 90]   Running process for chart event HCO3 over 152678 rows\n",
      "[   DEBUG |     process_mimic.py: 90]   Running process for chart event HCO3 over 152678 rows\n",
      "[   DEBUG |     process_mimic.py: 90]   Running process for chart event Pregnant over 0 rows\n",
      "[   DEBUG |     process_mimic.py: 90]   Running process for chart event Total_PEEP over 1512 rows\n",
      "[   DEBUG |     process_mimic.py: 90]   Running process for chart event Total_PEEP_cmH2O over 44275 rows\n",
      "[   DEBUG |     process_mimic.py: 90]   Running process for chart event Height_inches over 91718 rows\n",
      "[   DEBUG |     process_mimic.py: 90]   Running process for chart event Height_inches over 91718 rows\n",
      "[   DEBUG |     process_mimic.py: 90]   Running process for chart event Height_inches over 91718 rows\n",
      "[   DEBUG |     process_mimic.py: 90]   Running process for chart event Height_inches over 91718 rows\n",
      "[   DEBUG |     process_mimic.py: 90]   Running process for chart event Height_inches over 91718 rows\n",
      "[   DEBUG |     process_mimic.py: 90]   Running process for chart event Weight_kg over 34838 rows\n",
      "[   DEBUG |     process_mimic.py: 90]   Running process for chart event Weight_kg over 34838 rows\n",
      "[   DEBUG |     process_mimic.py: 90]   Running process for chart event Tidal_ml over 458370 rows\n",
      "[   DEBUG |     process_mimic.py: 90]   Running process for chart event Tidal over 12 rows\n",
      "[   DEBUG |     process_mimic.py: 90]   Running process for chart event Tidal over 12 rows\n",
      "[   DEBUG |     process_mimic.py: 90]   Running process for chart event Tidal over 12 rows\n",
      "[   DEBUG |     process_mimic.py: 90]   Running process for chart event Plateau_Pressure over 145089 rows\n",
      "[   DEBUG |     process_mimic.py: 90]   Running process for chart event Plateau_Pressure over 145089 rows\n",
      "[   DEBUG |     process_mimic.py: 90]   Running process for chart event temperature_c over 540582 rows\n",
      "[   DEBUG |     process_mimic.py: 90]   Running process for chart event temperature_c over 540582 rows\n",
      "[   DEBUG |     process_mimic.py: 90]   Running process for chart event temperature_c over 540582 rows\n",
      "[   DEBUG |     process_mimic.py: 90]   Running process for chart event CVP over 1007562 rows\n",
      "[   DEBUG |     process_mimic.py: 90]   Running process for chart event CVP over 1007562 rows\n",
      "[   DEBUG |     process_mimic.py: 90]   Running process for chart event PEEP_set over 654310 rows\n",
      "[   DEBUG |     process_mimic.py: 90]   Running process for chart event PEEP_set over 654310 rows\n",
      "[   DEBUG |     process_mimic.py: 90]   Running process for chart event mean_airway_pressure over 622059 rows\n",
      "[   DEBUG |     process_mimic.py: 90]   Running process for chart event mean_airway_pressure over 622059 rows\n",
      "[   DEBUG |     process_mimic.py:101]   Saving chart events to data_processed/mimic_chartevents.csv\n",
      "[   DEBUG |     process_mimic.py:115]   Creating day blocks\n",
      "[   DEBUG |     process_mimic.py:124]   Created day blocks. 218689 rows, 38384 unique admissions\n",
      "[   DEBUG |     process_mimic.py:140]   Adding derived columns\n",
      "[   DEBUG |        operations.py:  6]   Adding BMI\n",
      "[    INFO |             utils.py:129]   Note: NumExpr detected 12 cores but \"NUMEXPR_MAX_THREADS\" not set, so enforcing safe limit of 8.\n",
      "[    INFO |             utils.py:141]   NumExpr defaulting to 8 threads.\n",
      "[   DEBUG |        operations.py: 13]   Adding PaO2/FiO2\n",
      "[    INFO |     process_mimic.py:261]   Getting admission data\n",
      "[    INFO |     process_mimic.py:190]   Getting procedures\n"
     ]
    },
    {
     "name": "stderr",
     "output_type": "stream",
     "text": [
      "[    INFO |     process_mimic.py:224]   Getting all diagnoses\n",
      "[   DEBUG |     process_mimic.py:255]   Found 4724 Chronic Kidney Disease patients\n",
      "[   DEBUG |     process_mimic.py:255]   Found 2670 Obesity patients\n",
      "[   DEBUG |     process_mimic.py:255]   Found 142 Heart disease patients\n",
      "[   DEBUG |     process_mimic.py:255]   Found 3515 Asthma patients\n",
      "[    INFO |     process_mimic.py:295]   Merging data\n",
      "[   DEBUG |     process_mimic.py:315]   Merged data. 218689 rows.\n",
      "[    INFO |     process_mimic.py:324]   Creating on admission data\n",
      "[   DEBUG |     process_mimic.py:326]   Created admission data. 38384 rows.\n"
     ]
    },
    {
     "name": "stdout",
     "output_type": "stream",
     "text": [
      "Wall time: 7min 19s\n"
     ]
    }
   ],
   "source": [
    "%%time\n",
    "\n",
    "df = create_merged()\n",
    "df_first = get_first_data(df)"
   ]
  },
  {
   "cell_type": "code",
   "execution_count": 6,
   "metadata": {
    "scrolled": false
   },
   "outputs": [],
   "source": [
    "# make these columns (normally in first day only) present accross all days\n",
    "df = df.drop(['Weight_kg', 'Height_inches', 'BMI'], axis=1).merge(\n",
    "    df_first[['Weight_kg', 'Height_inches', 'BMI']], on='HADM_ID')"
   ]
  },
  {
   "cell_type": "code",
   "execution_count": 7,
   "metadata": {
    "scrolled": false
   },
   "outputs": [
    {
     "data": {
      "text/plain": [
       "index                             218689\n",
       "HADM_ID                           218689\n",
       "CHARTDATE                         218689\n",
       "ALT                                47445\n",
       "AST                                  199\n",
       "Bilirubin                              6\n",
       "CRP                                  720\n",
       "CVP                                53989\n",
       "Creatinine                        148460\n",
       "Diastolic_BP                       46132\n",
       "FiO2                              109242\n",
       "HCO3                              106431\n",
       "HR                                205363\n",
       "Haemoglobin                       104816\n",
       "Mean Arterial Pressure             82324\n",
       "PCO2                                2590\n",
       "PEEP_set                           76390\n",
       "PaCO2                              47840\n",
       "PaO2                               82681\n",
       "Plateau_Pressure                   46387\n",
       "Platelet_count                    105036\n",
       "Potassium                         148614\n",
       "RR                                167849\n",
       "SaO2                              200038\n",
       "Sodium                            147400\n",
       "Systolic_BP                        44178\n",
       "Tidal                                  2\n",
       "Tidal_ml                           43895\n",
       "Total_PEEP                           718\n",
       "Total_PEEP_cmH2O                   18197\n",
       "apache2                               15\n",
       "mean_airway_pressure               75751\n",
       "pH                                 50780\n",
       "sofa                                   2\n",
       "temperature_c                      69159\n",
       "PaO2/FiO2                          65920\n",
       "SUBJECT_ID                        218689\n",
       "ADMITTIME                         218689\n",
       "DIAGNOSIS                         218688\n",
       "DAYS_TO_DISCH                     218689\n",
       "DAYS_TO_DEATH                      29550\n",
       "DEATH                             218689\n",
       "GENDER                            218689\n",
       "AGE                               218689\n",
       "Asthma                            218689\n",
       "Chronic Kidney Disease            218689\n",
       "Heart disease                     218689\n",
       "Obesity                           218689\n",
       "intubation_DAYSTO                  34160\n",
       "intubation_VALUE                   34160\n",
       "invasive_ventilation_DAYSTO        64449\n",
       "invasive_ventilation_VALUE         64449\n",
       "noninvasive_ventilation_DAYSTO      9591\n",
       "noninvasive_ventilation_VALUE       9591\n",
       "Day                               218689\n",
       "Weight_kg                         160873\n",
       "Height_inches                     144715\n",
       "BMI                                92184\n",
       "dtype: int64"
      ]
     },
     "execution_count": 7,
     "metadata": {},
     "output_type": "execute_result"
    }
   ],
   "source": [
    "df.count()"
   ]
  },
  {
   "cell_type": "code",
   "execution_count": 8,
   "metadata": {
    "scrolled": false
   },
   "outputs": [
    {
     "data": {
      "text/plain": [
       "index                             38384\n",
       "CHARTDATE                         38384\n",
       "ALT                               16272\n",
       "AST                                 121\n",
       "Bilirubin                             6\n",
       "CRP                                 589\n",
       "CVP                               11392\n",
       "Creatinine                        31633\n",
       "Diastolic_BP                       9825\n",
       "FiO2                              19591\n",
       "HCO3                              24061\n",
       "HR                                35951\n",
       "Haemoglobin                       23983\n",
       "Height_inches                     18650\n",
       "Mean Arterial Pressure            16128\n",
       "PCO2                                645\n",
       "PEEP_set                          16009\n",
       "PaCO2                             13135\n",
       "PaO2                              20034\n",
       "Plateau_Pressure                  13693\n",
       "Platelet_count                    23984\n",
       "Potassium                         31629\n",
       "RR                                32723\n",
       "SaO2                              35387\n",
       "Sodium                            31618\n",
       "Systolic_BP                        9564\n",
       "Tidal                                 1\n",
       "Tidal_ml                          10118\n",
       "Total_PEEP                          289\n",
       "Total_PEEP_cmH2O                   6322\n",
       "Weight_kg                         29940\n",
       "apache2                              14\n",
       "mean_airway_pressure              15902\n",
       "pH                                13708\n",
       "sofa                                  2\n",
       "temperature_c                     13038\n",
       "BMI                               14855\n",
       "PaO2/FiO2                         15572\n",
       "SUBJECT_ID                        38384\n",
       "ADMITTIME                         38384\n",
       "DIAGNOSIS                         38383\n",
       "DAYS_TO_DISCH                     38384\n",
       "DAYS_TO_DEATH                      3957\n",
       "DEATH                             38384\n",
       "GENDER                            38384\n",
       "AGE                               38384\n",
       "Asthma                            38384\n",
       "Chronic Kidney Disease            38384\n",
       "Heart disease                     38384\n",
       "Obesity                           38384\n",
       "intubation_DAYSTO                  3465\n",
       "intubation_VALUE                   3465\n",
       "invasive_ventilation_DAYSTO        8860\n",
       "invasive_ventilation_VALUE         8860\n",
       "noninvasive_ventilation_DAYSTO      997\n",
       "noninvasive_ventilation_VALUE       997\n",
       "Day                               38384\n",
       "dtype: int64"
      ]
     },
     "execution_count": 8,
     "metadata": {},
     "output_type": "execute_result"
    }
   ],
   "source": [
    "df_first.count()"
   ]
  },
  {
   "cell_type": "markdown",
   "metadata": {},
   "source": [
    "### Invasive ventilation\n",
    "The majority of the patients are ventilated at day 0. This could provide a problem for machine learning. (overfitting)\n"
   ]
  },
  {
   "cell_type": "markdown",
   "metadata": {},
   "source": [
    "Should probably split problems into \"requires ventilation\" and \"days to ventilation\n",
    "\n",
    "Hard to do \"requires ventilation\" as most of them are on day 0, meaning can't really use first day data?"
   ]
  },
  {
   "cell_type": "code",
   "execution_count": 9,
   "metadata": {},
   "outputs": [
    {
     "data": {
      "text/plain": [
       "8860"
      ]
     },
     "execution_count": 9,
     "metadata": {},
     "output_type": "execute_result"
    }
   ],
   "source": [
    "df_first['invasive_ventilation_DAYSTO'].count()"
   ]
  },
  {
   "cell_type": "code",
   "execution_count": 10,
   "metadata": {
    "scrolled": true
   },
   "outputs": [
    {
     "data": {
      "text/plain": [
       " 0.0      4695\n",
       " 1.0      1631\n",
       " 2.0       627\n",
       " 3.0       437\n",
       " 4.0       331\n",
       " 5.0       219\n",
       " 6.0       212\n",
       " 7.0       146\n",
       " 9.0        82\n",
       " 8.0        71\n",
       " 10.0       65\n",
       " 11.0       51\n",
       " 13.0       38\n",
       " 12.0       38\n",
       " 14.0       25\n",
       " 15.0       23\n",
       " 16.0       20\n",
       " 18.0       20\n",
       " 19.0       17\n",
       " 21.0       12\n",
       " 20.0       11\n",
       " 23.0        9\n",
       " 17.0        8\n",
       " 25.0        6\n",
       " 22.0        5\n",
       " 29.0        5\n",
       " 35.0        5\n",
       " 32.0        5\n",
       " 26.0        5\n",
       " 28.0        5\n",
       " 27.0        4\n",
       " 24.0        3\n",
       " 31.0        3\n",
       " 34.0        2\n",
       " 37.0        2\n",
       " 33.0        2\n",
       " 56.0        1\n",
       " 43.0        1\n",
       "-1.0         1\n",
       " 49.0        1\n",
       " 64.0        1\n",
       " 76.0        1\n",
       " 112.0       1\n",
       " 90.0        1\n",
       " 44.0        1\n",
       " 38.0        1\n",
       " 48.0        1\n",
       " 30.0        1\n",
       " 40.0        1\n",
       " 51.0        1\n",
       " 46.0        1\n",
       " 36.0        1\n",
       " 170.0       1\n",
       " 54.0        1\n",
       " 82.0        1\n",
       " 55.0        1\n",
       "Name: invasive_ventilation_DAYSTO, dtype: int64"
      ]
     },
     "execution_count": 10,
     "metadata": {},
     "output_type": "execute_result"
    }
   ],
   "source": [
    "df_first['invasive_ventilation_DAYSTO'].value_counts()"
   ]
  },
  {
   "cell_type": "markdown",
   "metadata": {},
   "source": [
    "### Discharge\n",
    "Every patient with an admission also has a discharge"
   ]
  },
  {
   "cell_type": "code",
   "execution_count": 11,
   "metadata": {},
   "outputs": [
    {
     "data": {
      "text/plain": [
       "38384"
      ]
     },
     "execution_count": 11,
     "metadata": {},
     "output_type": "execute_result"
    }
   ],
   "source": [
    "df_first['DAYS_TO_DISCH'].count()"
   ]
  },
  {
   "cell_type": "code",
   "execution_count": 12,
   "metadata": {
    "scrolled": true
   },
   "outputs": [
    {
     "data": {
      "text/plain": [
       " 4      3931\n",
       " 2      3416\n",
       " 3      3397\n",
       " 5      3233\n",
       " 6      2837\n",
       " 7      2534\n",
       " 1      2187\n",
       " 8      2031\n",
       " 9      1736\n",
       " 10     1407\n",
       " 0      1319\n",
       " 11     1128\n",
       " 12      958\n",
       " 13      898\n",
       " 14      728\n",
       " 15      659\n",
       " 16      543\n",
       " 17      486\n",
       " 18      426\n",
       " 20      381\n",
       " 19      348\n",
       " 21      311\n",
       " 22      285\n",
       " 23      249\n",
       " 24      220\n",
       " 28      181\n",
       " 27      178\n",
       " 26      173\n",
       " 25      172\n",
       " 29      145\n",
       " 30      112\n",
       " 35      111\n",
       " 31      110\n",
       " 33       97\n",
       " 34       89\n",
       " 32       78\n",
       " 36       71\n",
       " 37       65\n",
       " 38       58\n",
       " 41       57\n",
       " 39       55\n",
       "-1        52\n",
       " 42       51\n",
       " 40       50\n",
       " 45       43\n",
       " 43       42\n",
       " 46       39\n",
       " 44       35\n",
       " 51       35\n",
       " 48       31\n",
       " 56       31\n",
       " 52       27\n",
       " 47       27\n",
       " 50       24\n",
       " 49       23\n",
       " 55       23\n",
       " 53       22\n",
       " 54       21\n",
       " 66       17\n",
       " 57       17\n",
       " 59       16\n",
       " 58       16\n",
       " 61       15\n",
       " 64       15\n",
       " 75       14\n",
       " 60       13\n",
       " 62       13\n",
       " 68       12\n",
       " 76       11\n",
       " 72       11\n",
       " 69       11\n",
       " 71        9\n",
       " 63        9\n",
       " 78        9\n",
       " 97        8\n",
       " 65        8\n",
       " 70        7\n",
       " 83        7\n",
       " 81        6\n",
       " 88        6\n",
       " 90        6\n",
       " 67        6\n",
       " 73        6\n",
       " 86        6\n",
       " 80        5\n",
       " 87        5\n",
       " 93        5\n",
       " 100       5\n",
       " 101       5\n",
       " 123       5\n",
       " 107       4\n",
       " 85        4\n",
       " 91        4\n",
       " 79        4\n",
       " 84        4\n",
       " 77        4\n",
       " 89        4\n",
       " 96        4\n",
       " 131       3\n",
       " 92        3\n",
       " 126       3\n",
       " 106       3\n",
       " 117       3\n",
       " 82        3\n",
       " 112       3\n",
       " 94        2\n",
       " 102       2\n",
       " 133       2\n",
       " 95        2\n",
       " 111       2\n",
       " 119       2\n",
       " 105       2\n",
       " 137       2\n",
       " 74        2\n",
       " 108       2\n",
       " 127       2\n",
       " 113       2\n",
       " 128       1\n",
       " 99        1\n",
       " 129       1\n",
       " 98        1\n",
       " 191       1\n",
       " 164       1\n",
       " 134       1\n",
       " 125       1\n",
       " 124       1\n",
       " 155       1\n",
       " 153       1\n",
       " 151       1\n",
       " 150       1\n",
       " 118       1\n",
       " 181       1\n",
       " 148       1\n",
       " 114       1\n",
       " 145       1\n",
       " 142       1\n",
       " 173       1\n",
       " 140       1\n",
       " 202       1\n",
       " 138       1\n",
       " 169       1\n",
       " 135       1\n",
       " 294       1\n",
       " 206       1\n",
       "Name: DAYS_TO_DISCH, dtype: int64"
      ]
     },
     "execution_count": 12,
     "metadata": {},
     "output_type": "execute_result"
    }
   ],
   "source": [
    "df_first['DAYS_TO_DISCH'].value_counts()"
   ]
  },
  {
   "cell_type": "markdown",
   "metadata": {},
   "source": [
    "### Death\n",
    "Around 10% mortality rate. Lots after day 0."
   ]
  },
  {
   "cell_type": "code",
   "execution_count": 13,
   "metadata": {
    "scrolled": true
   },
   "outputs": [
    {
     "data": {
      "text/plain": [
       "3957"
      ]
     },
     "execution_count": 13,
     "metadata": {},
     "output_type": "execute_result"
    }
   ],
   "source": [
    "df_first['DAYS_TO_DEATH'].count()"
   ]
  },
  {
   "cell_type": "code",
   "execution_count": 14,
   "metadata": {
    "scrolled": true
   },
   "outputs": [
    {
     "data": {
      "text/plain": [
       " 0.0      600\n",
       " 1.0      385\n",
       " 2.0      303\n",
       " 3.0      250\n",
       " 4.0      230\n",
       " 5.0      216\n",
       " 6.0      206\n",
       " 7.0      166\n",
       " 8.0      155\n",
       " 9.0      135\n",
       " 10.0     112\n",
       " 11.0     100\n",
       " 12.0      87\n",
       " 15.0      85\n",
       " 13.0      80\n",
       " 14.0      68\n",
       " 16.0      67\n",
       " 17.0      50\n",
       " 18.0      45\n",
       "-1.0       45\n",
       " 21.0      35\n",
       " 23.0      35\n",
       " 19.0      34\n",
       " 20.0      33\n",
       " 22.0      28\n",
       " 24.0      26\n",
       " 26.0      26\n",
       " 27.0      25\n",
       " 25.0      23\n",
       " 29.0      21\n",
       " 35.0      19\n",
       " 33.0      19\n",
       " 28.0      19\n",
       " 31.0      13\n",
       " 34.0      13\n",
       " 41.0      13\n",
       " 37.0      12\n",
       " 32.0      11\n",
       " 30.0      11\n",
       " 36.0      10\n",
       " 51.0      10\n",
       " 38.0       9\n",
       " 45.0       9\n",
       " 42.0       8\n",
       " 40.0       7\n",
       " 56.0       6\n",
       " 46.0       5\n",
       " 64.0       5\n",
       " 44.0       5\n",
       " 39.0       4\n",
       " 43.0       3\n",
       " 57.0       3\n",
       " 50.0       3\n",
       " 62.0       3\n",
       " 69.0       3\n",
       " 54.0       3\n",
       " 52.0       3\n",
       " 65.0       2\n",
       " 100.0      2\n",
       " 66.0       2\n",
       " 87.0       2\n",
       " 47.0       2\n",
       " 55.0       2\n",
       " 53.0       2\n",
       " 106.0      2\n",
       " 68.0       2\n",
       " 49.0       2\n",
       " 48.0       2\n",
       " 72.0       2\n",
       " 60.0       2\n",
       " 102.0      1\n",
       " 73.0       1\n",
       " 79.0       1\n",
       " 76.0       1\n",
       " 191.0      1\n",
       " 107.0      1\n",
       " 88.0       1\n",
       " 164.0      1\n",
       "-2.0        1\n",
       " 85.0       1\n",
       " 91.0       1\n",
       " 58.0       1\n",
       " 61.0       1\n",
       " 63.0       1\n",
       " 94.0       1\n",
       " 97.0       1\n",
       " 80.0       1\n",
       " 75.0       1\n",
       " 96.0       1\n",
       "-3.0        1\n",
       " 105.0      1\n",
       " 78.0       1\n",
       " 206.0      1\n",
       " 117.0      1\n",
       " 86.0       1\n",
       "-30.0       1\n",
       " 82.0       1\n",
       " 123.0      1\n",
       " 127.0      1\n",
       " 131.0      1\n",
       " 71.0       1\n",
       "Name: DAYS_TO_DEATH, dtype: int64"
      ]
     },
     "execution_count": 14,
     "metadata": {},
     "output_type": "execute_result"
    }
   ],
   "source": [
    "df_first['DAYS_TO_DEATH'].value_counts()"
   ]
  },
  {
   "cell_type": "markdown",
   "metadata": {},
   "source": [
    "### Choose features\n",
    "Must choose a subset of features, as some of these have almost no data.\n",
    "Choose features with most rows"
   ]
  },
  {
   "cell_type": "markdown",
   "metadata": {},
   "source": [
    "TODO add ventilatory related features"
   ]
  },
  {
   "cell_type": "code",
   "execution_count": 15,
   "metadata": {},
   "outputs": [],
   "source": [
    "numeric = [\n",
    "    'Creatinine', 'HCO3', 'HR', 'Haemoglobin',\n",
    "    'Platelet_count', 'Potassium', 'RR',\n",
    "    'Sodium', 'Weight_kg', 'SaO2',\n",
    "]\n",
    "\n",
    "my_cols = numeric + [\n",
    "    'HADM_ID', 'CHARTDATE', \n",
    "    'DAYS_TO_DISCH', 'AGE', 'GENDER', 'Day', 'DEATH',\n",
    "    \"Chronic Kidney Disease\", \"Obesity\", \"Heart disease\", \"Asthma\", # comorbidities\n",
    "]"
   ]
  },
  {
   "cell_type": "code",
   "execution_count": 16,
   "metadata": {
    "scrolled": true
   },
   "outputs": [
    {
     "data": {
      "text/plain": [
       "index                             218689\n",
       "HADM_ID                           218689\n",
       "CHARTDATE                         218689\n",
       "ALT                                47445\n",
       "AST                                  199\n",
       "Bilirubin                              6\n",
       "CRP                                  720\n",
       "CVP                                53989\n",
       "Creatinine                        148460\n",
       "Diastolic_BP                       46132\n",
       "FiO2                              109242\n",
       "HCO3                              106431\n",
       "HR                                205363\n",
       "Haemoglobin                       104816\n",
       "Mean Arterial Pressure             82324\n",
       "PCO2                                2590\n",
       "PEEP_set                           76390\n",
       "PaCO2                              47840\n",
       "PaO2                               82681\n",
       "Plateau_Pressure                   46387\n",
       "Platelet_count                    105036\n",
       "Potassium                         148614\n",
       "RR                                167849\n",
       "SaO2                              200038\n",
       "Sodium                            147400\n",
       "Systolic_BP                        44178\n",
       "Tidal                                  2\n",
       "Tidal_ml                           43895\n",
       "Total_PEEP                           718\n",
       "Total_PEEP_cmH2O                   18197\n",
       "apache2                               15\n",
       "mean_airway_pressure               75751\n",
       "pH                                 50780\n",
       "sofa                                   2\n",
       "temperature_c                      69159\n",
       "PaO2/FiO2                          65920\n",
       "SUBJECT_ID                        218689\n",
       "ADMITTIME                         218689\n",
       "DIAGNOSIS                         218688\n",
       "DAYS_TO_DISCH                     218689\n",
       "DAYS_TO_DEATH                      29550\n",
       "DEATH                             218689\n",
       "GENDER                            218689\n",
       "AGE                               218689\n",
       "Asthma                            218689\n",
       "Chronic Kidney Disease            218689\n",
       "Heart disease                     218689\n",
       "Obesity                           218689\n",
       "intubation_DAYSTO                  34160\n",
       "intubation_VALUE                   34160\n",
       "invasive_ventilation_DAYSTO        64449\n",
       "invasive_ventilation_VALUE         64449\n",
       "noninvasive_ventilation_DAYSTO      9591\n",
       "noninvasive_ventilation_VALUE       9591\n",
       "Day                               218689\n",
       "Weight_kg                         160873\n",
       "Height_inches                     144715\n",
       "BMI                                92184\n",
       "dtype: int64"
      ]
     },
     "execution_count": 16,
     "metadata": {},
     "output_type": "execute_result"
    }
   ],
   "source": [
    "df.count()"
   ]
  },
  {
   "cell_type": "code",
   "execution_count": 17,
   "metadata": {},
   "outputs": [],
   "source": [
    "features = df[my_cols]"
   ]
  },
  {
   "cell_type": "code",
   "execution_count": 18,
   "metadata": {},
   "outputs": [
    {
     "data": {
      "text/plain": [
       "Creatinine                148460\n",
       "HCO3                      106431\n",
       "HR                        205363\n",
       "Haemoglobin               104816\n",
       "Platelet_count            105036\n",
       "Potassium                 148614\n",
       "RR                        167849\n",
       "Sodium                    147400\n",
       "Weight_kg                 160873\n",
       "SaO2                      200038\n",
       "HADM_ID                   218689\n",
       "CHARTDATE                 218689\n",
       "DAYS_TO_DISCH             218689\n",
       "AGE                       218689\n",
       "GENDER                    218689\n",
       "Day                       218689\n",
       "DEATH                     218689\n",
       "Chronic Kidney Disease    218689\n",
       "Obesity                   218689\n",
       "Heart disease             218689\n",
       "Asthma                    218689\n",
       "dtype: int64"
      ]
     },
     "execution_count": 18,
     "metadata": {},
     "output_type": "execute_result"
    }
   ],
   "source": [
    "features.count()"
   ]
  },
  {
   "cell_type": "code",
   "execution_count": 19,
   "metadata": {},
   "outputs": [],
   "source": [
    "features = features.dropna()"
   ]
  },
  {
   "cell_type": "code",
   "execution_count": 20,
   "metadata": {},
   "outputs": [
    {
     "data": {
      "text/plain": [
       "Creatinine                90373\n",
       "HCO3                      90373\n",
       "HR                        90373\n",
       "Haemoglobin               90373\n",
       "Platelet_count            90373\n",
       "Potassium                 90373\n",
       "RR                        90373\n",
       "Sodium                    90373\n",
       "Weight_kg                 90373\n",
       "SaO2                      90373\n",
       "HADM_ID                   90373\n",
       "CHARTDATE                 90373\n",
       "DAYS_TO_DISCH             90373\n",
       "AGE                       90373\n",
       "GENDER                    90373\n",
       "Day                       90373\n",
       "DEATH                     90373\n",
       "Chronic Kidney Disease    90373\n",
       "Obesity                   90373\n",
       "Heart disease             90373\n",
       "Asthma                    90373\n",
       "dtype: int64"
      ]
     },
     "execution_count": 20,
     "metadata": {},
     "output_type": "execute_result"
    }
   ],
   "source": [
    "features.count()"
   ]
  },
  {
   "cell_type": "code",
   "execution_count": 21,
   "metadata": {
    "scrolled": false
   },
   "outputs": [
    {
     "data": {
      "text/plain": [
       "21463"
      ]
     },
     "execution_count": 21,
     "metadata": {},
     "output_type": "execute_result"
    }
   ],
   "source": [
    "# number of patients data we still have\n",
    "features['HADM_ID'].value_counts().count()"
   ]
  },
  {
   "cell_type": "code",
   "execution_count": 22,
   "metadata": {
    "scrolled": true
   },
   "outputs": [
    {
     "data": {
      "text/plain": [
       " 1      16692\n",
       " 2      11449\n",
       " 3       8046\n",
       " 0       7797\n",
       " 4       6217\n",
       " 5       4978\n",
       " 6       4176\n",
       " 7       3538\n",
       " 8       2994\n",
       " 9       2543\n",
       " 10      2171\n",
       " 11      1911\n",
       " 12      1670\n",
       " 13      1499\n",
       " 14      1321\n",
       " 15      1177\n",
       " 16      1032\n",
       " 17       935\n",
       " 18       822\n",
       " 19       773\n",
       " 20       702\n",
       " 21       642\n",
       " 22       589\n",
       " 23       525\n",
       " 24       480\n",
       " 25       433\n",
       " 26       393\n",
       " 27       351\n",
       " 28       328\n",
       " 29       308\n",
       " 30       279\n",
       " 31       255\n",
       " 32       230\n",
       " 33       213\n",
       " 34       191\n",
       " 35       180\n",
       " 36       161\n",
       " 37       154\n",
       " 38       135\n",
       " 39       127\n",
       " 40       122\n",
       " 41       109\n",
       " 42       101\n",
       " 43        98\n",
       " 45        81\n",
       " 44        80\n",
       " 46        74\n",
       " 47        67\n",
       " 48        64\n",
       " 49        64\n",
       " 50        58\n",
       " 51        51\n",
       " 54        44\n",
       " 52        43\n",
       " 55        42\n",
       " 53        40\n",
       " 56        38\n",
       " 57        35\n",
       " 58        34\n",
       " 59        32\n",
       " 61        30\n",
       " 60        30\n",
       " 62        28\n",
       " 64        27\n",
       " 63        26\n",
       " 65        24\n",
       " 66        21\n",
       " 72        21\n",
       " 70        21\n",
       " 67        20\n",
       " 73        20\n",
       " 74        20\n",
       " 69        20\n",
       " 71        20\n",
       " 75        18\n",
       " 68        18\n",
       " 76        17\n",
       " 77        15\n",
       " 78        15\n",
       " 80        14\n",
       " 79        14\n",
       " 82        11\n",
       " 83        10\n",
       " 81        10\n",
       " 92         9\n",
       " 84         9\n",
       " 93         9\n",
       " 94         9\n",
       " 85         9\n",
       " 86         9\n",
       " 95         8\n",
       " 90         8\n",
       " 87         7\n",
       " 91         7\n",
       " 96         7\n",
       " 88         7\n",
       " 106        7\n",
       " 89         6\n",
       " 107        6\n",
       " 97         5\n",
       " 104        4\n",
       " 105        4\n",
       " 115        3\n",
       " 116        3\n",
       " 117        3\n",
       " 118        3\n",
       " 122        3\n",
       " 123        3\n",
       " 99         3\n",
       "-1          3\n",
       " 98         3\n",
       " 121        2\n",
       " 120        2\n",
       " 111        2\n",
       " 119        2\n",
       " 124        2\n",
       " 125        2\n",
       " 126        2\n",
       " 114        2\n",
       " 113        2\n",
       " 127        2\n",
       " 103        2\n",
       " 110        2\n",
       " 100        2\n",
       " 109        2\n",
       " 108        2\n",
       " 101        2\n",
       " 102        2\n",
       " 174        1\n",
       " 146        1\n",
       " 128        1\n",
       " 145        1\n",
       " 129        1\n",
       " 130        1\n",
       " 144        1\n",
       " 143        1\n",
       " 131        1\n",
       " 175        1\n",
       " 142        1\n",
       " 170        1\n",
       " 171        1\n",
       " 172        1\n",
       " 177        1\n",
       " 176        1\n",
       " 112        1\n",
       " 173        1\n",
       "Name: Day, dtype: int64"
      ]
     },
     "execution_count": 22,
     "metadata": {},
     "output_type": "execute_result"
    }
   ],
   "source": [
    "# days \n",
    "features['Day'].value_counts()"
   ]
  },
  {
   "cell_type": "code",
   "execution_count": 23,
   "metadata": {
    "scrolled": true
   },
   "outputs": [
    {
     "data": {
      "text/plain": [
       "count    90373.000000\n",
       "mean         7.552366\n",
       "std         10.970262\n",
       "min         -1.000000\n",
       "25%          1.000000\n",
       "50%          4.000000\n",
       "75%          9.000000\n",
       "max        177.000000\n",
       "Name: Day, dtype: float64"
      ]
     },
     "execution_count": 23,
     "metadata": {},
     "output_type": "execute_result"
    }
   ],
   "source": [
    "features['Day'].describe()"
   ]
  },
  {
   "cell_type": "code",
   "execution_count": 24,
   "metadata": {},
   "outputs": [],
   "source": [
    "# drop days after 2 weeks to match redcap dataset\n",
    "# but this will make predicting next day discharge really hard because\n",
    "# 14 day patients won't have the same values as other actually discharged patients\n",
    "\n",
    "# data = features[features['Day'] < 14]\n",
    "data = features"
   ]
  },
  {
   "cell_type": "code",
   "execution_count": 25,
   "metadata": {
    "scrolled": false
   },
   "outputs": [
    {
     "data": {
      "text/html": [
       "<div>\n",
       "<style scoped>\n",
       "    .dataframe tbody tr th:only-of-type {\n",
       "        vertical-align: middle;\n",
       "    }\n",
       "\n",
       "    .dataframe tbody tr th {\n",
       "        vertical-align: top;\n",
       "    }\n",
       "\n",
       "    .dataframe thead th {\n",
       "        text-align: right;\n",
       "    }\n",
       "</style>\n",
       "<table border=\"1\" class=\"dataframe\">\n",
       "  <thead>\n",
       "    <tr style=\"text-align: right;\">\n",
       "      <th></th>\n",
       "      <th>Creatinine</th>\n",
       "      <th>HCO3</th>\n",
       "      <th>HR</th>\n",
       "      <th>Haemoglobin</th>\n",
       "      <th>Platelet_count</th>\n",
       "      <th>Potassium</th>\n",
       "      <th>RR</th>\n",
       "      <th>Sodium</th>\n",
       "      <th>Weight_kg</th>\n",
       "      <th>SaO2</th>\n",
       "      <th>HADM_ID</th>\n",
       "      <th>CHARTDATE</th>\n",
       "      <th>DAYS_TO_DISCH</th>\n",
       "      <th>AGE</th>\n",
       "      <th>GENDER</th>\n",
       "      <th>Day</th>\n",
       "      <th>DEATH</th>\n",
       "      <th>Chronic Kidney Disease</th>\n",
       "      <th>Obesity</th>\n",
       "      <th>Heart disease</th>\n",
       "      <th>Asthma</th>\n",
       "    </tr>\n",
       "  </thead>\n",
       "  <tbody>\n",
       "    <tr>\n",
       "      <td>0</td>\n",
       "      <td>2.3</td>\n",
       "      <td>17.0</td>\n",
       "      <td>122.0</td>\n",
       "      <td>11.0</td>\n",
       "      <td>376.0</td>\n",
       "      <td>4.2</td>\n",
       "      <td>14.0</td>\n",
       "      <td>143.0</td>\n",
       "      <td>99.0</td>\n",
       "      <td>100.0</td>\n",
       "      <td>100001</td>\n",
       "      <td>2117-09-11</td>\n",
       "      <td>6</td>\n",
       "      <td>35</td>\n",
       "      <td>F</td>\n",
       "      <td>0</td>\n",
       "      <td>0</td>\n",
       "      <td>1.0</td>\n",
       "      <td>0.0</td>\n",
       "      <td>0.0</td>\n",
       "      <td>0.0</td>\n",
       "    </tr>\n",
       "    <tr>\n",
       "      <td>2</td>\n",
       "      <td>2.0</td>\n",
       "      <td>23.0</td>\n",
       "      <td>117.0</td>\n",
       "      <td>11.2</td>\n",
       "      <td>378.0</td>\n",
       "      <td>3.3</td>\n",
       "      <td>18.0</td>\n",
       "      <td>138.0</td>\n",
       "      <td>99.0</td>\n",
       "      <td>97.0</td>\n",
       "      <td>100001</td>\n",
       "      <td>2117-09-13</td>\n",
       "      <td>6</td>\n",
       "      <td>35</td>\n",
       "      <td>F</td>\n",
       "      <td>2</td>\n",
       "      <td>0</td>\n",
       "      <td>1.0</td>\n",
       "      <td>0.0</td>\n",
       "      <td>0.0</td>\n",
       "      <td>0.0</td>\n",
       "    </tr>\n",
       "    <tr>\n",
       "      <td>5</td>\n",
       "      <td>1.2</td>\n",
       "      <td>16.0</td>\n",
       "      <td>71.0</td>\n",
       "      <td>7.1</td>\n",
       "      <td>148.0</td>\n",
       "      <td>5.0</td>\n",
       "      <td>13.0</td>\n",
       "      <td>133.0</td>\n",
       "      <td>85.3</td>\n",
       "      <td>99.0</td>\n",
       "      <td>100003</td>\n",
       "      <td>2150-04-17</td>\n",
       "      <td>4</td>\n",
       "      <td>60</td>\n",
       "      <td>M</td>\n",
       "      <td>0</td>\n",
       "      <td>0</td>\n",
       "      <td>0.0</td>\n",
       "      <td>0.0</td>\n",
       "      <td>0.0</td>\n",
       "      <td>0.0</td>\n",
       "    </tr>\n",
       "    <tr>\n",
       "      <td>6</td>\n",
       "      <td>1.1</td>\n",
       "      <td>15.0</td>\n",
       "      <td>74.0</td>\n",
       "      <td>10.4</td>\n",
       "      <td>162.0</td>\n",
       "      <td>5.0</td>\n",
       "      <td>18.0</td>\n",
       "      <td>133.0</td>\n",
       "      <td>85.3</td>\n",
       "      <td>100.0</td>\n",
       "      <td>100003</td>\n",
       "      <td>2150-04-18</td>\n",
       "      <td>4</td>\n",
       "      <td>60</td>\n",
       "      <td>M</td>\n",
       "      <td>1</td>\n",
       "      <td>0</td>\n",
       "      <td>0.0</td>\n",
       "      <td>0.0</td>\n",
       "      <td>0.0</td>\n",
       "      <td>0.0</td>\n",
       "    </tr>\n",
       "    <tr>\n",
       "      <td>7</td>\n",
       "      <td>1.0</td>\n",
       "      <td>18.0</td>\n",
       "      <td>81.0</td>\n",
       "      <td>9.6</td>\n",
       "      <td>132.0</td>\n",
       "      <td>4.3</td>\n",
       "      <td>16.0</td>\n",
       "      <td>133.0</td>\n",
       "      <td>85.3</td>\n",
       "      <td>98.0</td>\n",
       "      <td>100003</td>\n",
       "      <td>2150-04-19</td>\n",
       "      <td>4</td>\n",
       "      <td>60</td>\n",
       "      <td>M</td>\n",
       "      <td>2</td>\n",
       "      <td>0</td>\n",
       "      <td>0.0</td>\n",
       "      <td>0.0</td>\n",
       "      <td>0.0</td>\n",
       "      <td>0.0</td>\n",
       "    </tr>\n",
       "    <tr>\n",
       "      <td>...</td>\n",
       "      <td>...</td>\n",
       "      <td>...</td>\n",
       "      <td>...</td>\n",
       "      <td>...</td>\n",
       "      <td>...</td>\n",
       "      <td>...</td>\n",
       "      <td>...</td>\n",
       "      <td>...</td>\n",
       "      <td>...</td>\n",
       "      <td>...</td>\n",
       "      <td>...</td>\n",
       "      <td>...</td>\n",
       "      <td>...</td>\n",
       "      <td>...</td>\n",
       "      <td>...</td>\n",
       "      <td>...</td>\n",
       "      <td>...</td>\n",
       "      <td>...</td>\n",
       "      <td>...</td>\n",
       "      <td>...</td>\n",
       "      <td>...</td>\n",
       "    </tr>\n",
       "    <tr>\n",
       "      <td>218681</td>\n",
       "      <td>1.0</td>\n",
       "      <td>26.0</td>\n",
       "      <td>67.0</td>\n",
       "      <td>9.7</td>\n",
       "      <td>140.0</td>\n",
       "      <td>3.7</td>\n",
       "      <td>13.0</td>\n",
       "      <td>148.0</td>\n",
       "      <td>53.4</td>\n",
       "      <td>93.0</td>\n",
       "      <td>199992</td>\n",
       "      <td>2155-02-12</td>\n",
       "      <td>2</td>\n",
       "      <td>86</td>\n",
       "      <td>F</td>\n",
       "      <td>1</td>\n",
       "      <td>0</td>\n",
       "      <td>0.0</td>\n",
       "      <td>0.0</td>\n",
       "      <td>0.0</td>\n",
       "      <td>0.0</td>\n",
       "    </tr>\n",
       "    <tr>\n",
       "      <td>218685</td>\n",
       "      <td>0.8</td>\n",
       "      <td>25.0</td>\n",
       "      <td>75.0</td>\n",
       "      <td>11.3</td>\n",
       "      <td>296.0</td>\n",
       "      <td>3.4</td>\n",
       "      <td>27.0</td>\n",
       "      <td>131.0</td>\n",
       "      <td>71.5</td>\n",
       "      <td>98.0</td>\n",
       "      <td>199999</td>\n",
       "      <td>2136-04-07</td>\n",
       "      <td>5</td>\n",
       "      <td>89</td>\n",
       "      <td>M</td>\n",
       "      <td>3</td>\n",
       "      <td>0</td>\n",
       "      <td>0.0</td>\n",
       "      <td>0.0</td>\n",
       "      <td>0.0</td>\n",
       "      <td>0.0</td>\n",
       "    </tr>\n",
       "    <tr>\n",
       "      <td>218686</td>\n",
       "      <td>0.7</td>\n",
       "      <td>26.0</td>\n",
       "      <td>78.0</td>\n",
       "      <td>11.9</td>\n",
       "      <td>389.0</td>\n",
       "      <td>4.4</td>\n",
       "      <td>29.0</td>\n",
       "      <td>133.0</td>\n",
       "      <td>71.5</td>\n",
       "      <td>96.0</td>\n",
       "      <td>199999</td>\n",
       "      <td>2136-04-08</td>\n",
       "      <td>5</td>\n",
       "      <td>89</td>\n",
       "      <td>M</td>\n",
       "      <td>4</td>\n",
       "      <td>0</td>\n",
       "      <td>0.0</td>\n",
       "      <td>0.0</td>\n",
       "      <td>0.0</td>\n",
       "      <td>0.0</td>\n",
       "    </tr>\n",
       "    <tr>\n",
       "      <td>218687</td>\n",
       "      <td>0.8</td>\n",
       "      <td>28.0</td>\n",
       "      <td>69.0</td>\n",
       "      <td>12.5</td>\n",
       "      <td>417.0</td>\n",
       "      <td>4.2</td>\n",
       "      <td>26.0</td>\n",
       "      <td>136.0</td>\n",
       "      <td>71.5</td>\n",
       "      <td>89.0</td>\n",
       "      <td>199999</td>\n",
       "      <td>2136-04-09</td>\n",
       "      <td>5</td>\n",
       "      <td>89</td>\n",
       "      <td>M</td>\n",
       "      <td>5</td>\n",
       "      <td>0</td>\n",
       "      <td>0.0</td>\n",
       "      <td>0.0</td>\n",
       "      <td>0.0</td>\n",
       "      <td>0.0</td>\n",
       "    </tr>\n",
       "    <tr>\n",
       "      <td>218688</td>\n",
       "      <td>0.9</td>\n",
       "      <td>28.0</td>\n",
       "      <td>80.0</td>\n",
       "      <td>12.6</td>\n",
       "      <td>539.0</td>\n",
       "      <td>4.4</td>\n",
       "      <td>25.0</td>\n",
       "      <td>138.0</td>\n",
       "      <td>71.5</td>\n",
       "      <td>92.0</td>\n",
       "      <td>199999</td>\n",
       "      <td>2136-04-10</td>\n",
       "      <td>5</td>\n",
       "      <td>89</td>\n",
       "      <td>M</td>\n",
       "      <td>6</td>\n",
       "      <td>0</td>\n",
       "      <td>0.0</td>\n",
       "      <td>0.0</td>\n",
       "      <td>0.0</td>\n",
       "      <td>0.0</td>\n",
       "    </tr>\n",
       "  </tbody>\n",
       "</table>\n",
       "<p>90373 rows × 21 columns</p>\n",
       "</div>"
      ],
      "text/plain": [
       "        Creatinine  HCO3     HR  Haemoglobin  Platelet_count  Potassium    RR  Sodium  Weight_kg   SaO2  HADM_ID   CHARTDATE  DAYS_TO_DISCH  AGE GENDER  Day  DEATH  Chronic Kidney Disease  Obesity  Heart disease  Asthma\n",
       "0              2.3  17.0  122.0         11.0           376.0        4.2  14.0   143.0       99.0  100.0   100001  2117-09-11              6   35      F    0      0                     1.0      0.0            0.0     0.0\n",
       "2              2.0  23.0  117.0         11.2           378.0        3.3  18.0   138.0       99.0   97.0   100001  2117-09-13              6   35      F    2      0                     1.0      0.0            0.0     0.0\n",
       "5              1.2  16.0   71.0          7.1           148.0        5.0  13.0   133.0       85.3   99.0   100003  2150-04-17              4   60      M    0      0                     0.0      0.0            0.0     0.0\n",
       "6              1.1  15.0   74.0         10.4           162.0        5.0  18.0   133.0       85.3  100.0   100003  2150-04-18              4   60      M    1      0                     0.0      0.0            0.0     0.0\n",
       "7              1.0  18.0   81.0          9.6           132.0        4.3  16.0   133.0       85.3   98.0   100003  2150-04-19              4   60      M    2      0                     0.0      0.0            0.0     0.0\n",
       "...            ...   ...    ...          ...             ...        ...   ...     ...        ...    ...      ...         ...            ...  ...    ...  ...    ...                     ...      ...            ...     ...\n",
       "218681         1.0  26.0   67.0          9.7           140.0        3.7  13.0   148.0       53.4   93.0   199992  2155-02-12              2   86      F    1      0                     0.0      0.0            0.0     0.0\n",
       "218685         0.8  25.0   75.0         11.3           296.0        3.4  27.0   131.0       71.5   98.0   199999  2136-04-07              5   89      M    3      0                     0.0      0.0            0.0     0.0\n",
       "218686         0.7  26.0   78.0         11.9           389.0        4.4  29.0   133.0       71.5   96.0   199999  2136-04-08              5   89      M    4      0                     0.0      0.0            0.0     0.0\n",
       "218687         0.8  28.0   69.0         12.5           417.0        4.2  26.0   136.0       71.5   89.0   199999  2136-04-09              5   89      M    5      0                     0.0      0.0            0.0     0.0\n",
       "218688         0.9  28.0   80.0         12.6           539.0        4.4  25.0   138.0       71.5   92.0   199999  2136-04-10              5   89      M    6      0                     0.0      0.0            0.0     0.0\n",
       "\n",
       "[90373 rows x 21 columns]"
      ]
     },
     "execution_count": 25,
     "metadata": {},
     "output_type": "execute_result"
    }
   ],
   "source": [
    "data"
   ]
  },
  {
   "cell_type": "markdown",
   "metadata": {},
   "source": [
    "TODO Should discharge be only non deaths?\n",
    "probably"
   ]
  },
  {
   "cell_type": "markdown",
   "metadata": {},
   "source": [
    "Problem with missing days! e.g. day 0 missing but day 1 present. Ensure data for each HADM_ID is complete. \n",
    "\n",
    "TODO will probably be far better to impute data instead."
   ]
  },
  {
   "cell_type": "code",
   "execution_count": 26,
   "metadata": {},
   "outputs": [],
   "source": [
    "drop_hadm = []\n",
    "\n",
    "for hadm in data['HADM_ID'].unique():\n",
    "#     if len(data[data.HADM_ID == hadm]) - 1 == max(data[data.HADM_ID == hadm]['Day']) \\\n",
    "#             == max(data[data.HADM_ID == hadm]['DAYS_TO_DISCH']):\n",
    "    if max(data[data.HADM_ID == hadm]['Day']) == max(data[data.HADM_ID == hadm]['DAYS_TO_DISCH']):\n",
    "        continue\n",
    "    drop_hadm.append(hadm)"
   ]
  },
  {
   "cell_type": "code",
   "execution_count": 27,
   "metadata": {},
   "outputs": [],
   "source": [
    "complete_data = data[~data.HADM_ID.isin(drop_hadm)]"
   ]
  },
  {
   "cell_type": "code",
   "execution_count": 28,
   "metadata": {
    "scrolled": true
   },
   "outputs": [
    {
     "data": {
      "text/plain": [
       "2947"
      ]
     },
     "execution_count": 28,
     "metadata": {},
     "output_type": "execute_result"
    }
   ],
   "source": [
    "complete_data['HADM_ID'].value_counts().count()"
   ]
  },
  {
   "cell_type": "code",
   "execution_count": 29,
   "metadata": {
    "scrolled": true
   },
   "outputs": [
    {
     "data": {
      "text/plain": [
       "1      2302\n",
       "2      1514\n",
       "0      1209\n",
       "3      1101\n",
       "4       876\n",
       "5       751\n",
       "6       682\n",
       "7       589\n",
       "8       532\n",
       "9       486\n",
       "10      448\n",
       "11      407\n",
       "12      368\n",
       "13      341\n",
       "14      305\n",
       "15      292\n",
       "16      257\n",
       "17      231\n",
       "18      209\n",
       "19      204\n",
       "20      198\n",
       "21      182\n",
       "22      176\n",
       "23      164\n",
       "24      143\n",
       "25      127\n",
       "26      120\n",
       "27      105\n",
       "28      105\n",
       "29       96\n",
       "30       83\n",
       "31       79\n",
       "32       73\n",
       "33       71\n",
       "34       62\n",
       "35       60\n",
       "37       55\n",
       "36       54\n",
       "38       48\n",
       "39       43\n",
       "40       42\n",
       "41       39\n",
       "42       35\n",
       "43       33\n",
       "45       27\n",
       "44       27\n",
       "46       20\n",
       "47       20\n",
       "48       20\n",
       "49       19\n",
       "50       18\n",
       "51       17\n",
       "54       14\n",
       "55       13\n",
       "52       12\n",
       "56       11\n",
       "53       11\n",
       "60        9\n",
       "62        9\n",
       "61        9\n",
       "57        9\n",
       "59        8\n",
       "58        7\n",
       "63        7\n",
       "75        6\n",
       "64        6\n",
       "76        6\n",
       "67        5\n",
       "74        5\n",
       "70        5\n",
       "68        5\n",
       "72        5\n",
       "71        5\n",
       "73        5\n",
       "66        5\n",
       "65        5\n",
       "78        4\n",
       "106       4\n",
       "69        4\n",
       "77        4\n",
       "80        3\n",
       "107       3\n",
       "79        3\n",
       "113       2\n",
       "105       2\n",
       "81        2\n",
       "120       2\n",
       "121       2\n",
       "127       2\n",
       "115       2\n",
       "93        2\n",
       "125       2\n",
       "82        2\n",
       "124       2\n",
       "116       2\n",
       "92        2\n",
       "118       2\n",
       "126       2\n",
       "123       2\n",
       "119       2\n",
       "122       2\n",
       "114       2\n",
       "117       2\n",
       "95        1\n",
       "103       1\n",
       "111       1\n",
       "94        1\n",
       "86        1\n",
       "129       1\n",
       "88        1\n",
       "104       1\n",
       "112       1\n",
       "128       1\n",
       "84        1\n",
       "131       1\n",
       "91        1\n",
       "83        1\n",
       "130       1\n",
       "85        1\n",
       "Name: Day, dtype: int64"
      ]
     },
     "execution_count": 29,
     "metadata": {},
     "output_type": "execute_result"
    }
   ],
   "source": [
    "complete_data['Day'].value_counts()"
   ]
  },
  {
   "cell_type": "code",
   "execution_count": 30,
   "metadata": {
    "scrolled": false
   },
   "outputs": [
    {
     "data": {
      "text/plain": [
       "Index(['Creatinine', 'HCO3', 'HR', 'Haemoglobin', 'Platelet_count', 'Potassium', 'RR', 'Sodium', 'Weight_kg', 'SaO2', 'HADM_ID', 'CHARTDATE', 'DAYS_TO_DISCH', 'AGE', 'GENDER', 'Day', 'DEATH', 'Chronic Kidney Disease', 'Obesity', 'Heart disease', 'Asthma'], dtype='object')"
      ]
     },
     "execution_count": 30,
     "metadata": {},
     "output_type": "execute_result"
    }
   ],
   "source": [
    "complete_data.columns"
   ]
  },
  {
   "cell_type": "markdown",
   "metadata": {},
   "source": [
    "## Remove outliers\n",
    "\n",
    "delete outliers (e.g. 0 RR, 0 HR, very high heart rate)\n",
    "\n",
    "calculate zscore of every point, remove rows with any zscores > 4\n",
    "\n",
    "Note that this number is chosen to ensure RR=0 is not removed. This removes too many patients who died."
   ]
  },
  {
   "cell_type": "code",
   "execution_count": 31,
   "metadata": {},
   "outputs": [],
   "source": [
    "zscore = abs(complete_data[numeric] - complete_data[numeric].mean()) / complete_data[numeric].std()\n",
    "no_outliers = complete_data[(zscore < 4).all(axis=1)]"
   ]
  },
  {
   "cell_type": "code",
   "execution_count": 32,
   "metadata": {
    "scrolled": false
   },
   "outputs": [
    {
     "data": {
      "text/plain": [
       "2889"
      ]
     },
     "execution_count": 32,
     "metadata": {},
     "output_type": "execute_result"
    }
   ],
   "source": [
    "no_outliers['HADM_ID'].value_counts().count()"
   ]
  },
  {
   "cell_type": "code",
   "execution_count": 33,
   "metadata": {},
   "outputs": [],
   "source": [
    "no_outliers.to_csv('data_processed/mimic_dataset_incomplete.csv', index=False)"
   ]
  }
 ],
 "metadata": {
  "kernelspec": {
   "display_name": "Python 3",
   "language": "python",
   "name": "python3"
  },
  "language_info": {
   "codemirror_mode": {
    "name": "ipython",
    "version": 3
   },
   "file_extension": ".py",
   "mimetype": "text/x-python",
   "name": "python",
   "nbconvert_exporter": "python",
   "pygments_lexer": "ipython3",
   "version": "3.7.4"
  }
 },
 "nbformat": 4,
 "nbformat_minor": 4
}
